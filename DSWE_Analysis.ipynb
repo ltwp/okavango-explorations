{
 "cells": [
  {
   "cell_type": "markdown",
   "id": "1100eeda",
   "metadata": {},
   "source": [
    "# DSWE Analysis\n",
    "\n",
    "This code is used to analyze DSWE inundation assets generated using the 'Monthly Landsat DSWE Generator'script. The user provides folders to the DSWE and QC folders. It outputs a .csv of statistics including the DSWE pixel and area coverage by value, as well as QC statistics for each QC product. \n",
    "\n",
    "DSWE Methodology: Jones, J.W., 2019. Improved Automated Detection of Subpixel-Scale Inundation—Revised Dynamic Surface Water Extent (DSWE) Partial Surface Water Tests. Remote Sensing 11, 374. https://doi.org/10.3390/rs11040374\n",
    "\n",
    "Landsat Collection 2: Earth Resources Observation and Science (EROS) Center. (2020). Landsat 8-9 Operational Land Imager / Thermal Infrared Sensor Level-2, Collection 2 [dataset]. U.S. Geological Survey. https://doi.org/10.5066/P9OGBGM6. Earth Resources Observation and Science (EROS) Center. (2020). Landsat 7 Enhanced Thematic Mapper Plus Level-2, Collection 2 [dataset]. U.S. Geological Survey. https://doi.org/10.5066/P9C7I13B. Earth Resources Observation and Science (EROS) Center. (2020). Landsat 4-5 Thematic Mapper Level-2, Collection 2 [dataset]. U.S. Geological Survey. https://doi.org/10.5066/P9IAXOVV.\n",
    "\n",
    "Google Earth Engine: Gorelick, N., Hancher, M., Dixon, M., Ilyushchenko, S., Thau, D., Moore, R., 2017. Google Earth Engine: Planetary-scale geospatial analysis for everyone. Remote Sensing of Environment, Big Remotely Sensed Data: tools, applications and experiences 202, 18–27. https://doi.org/10.1016/j.rse.2017.06.031\n",
    "\n",
    "Author: James (Huck) Rees, PhD Student, UC Santa Barbara Geography\n",
    "\n",
    "Date: August 18, 2025"
   ]
  },
  {
   "cell_type": "markdown",
   "id": "8a04f5c5",
   "metadata": {},
   "source": [
    "## Import packages"
   ]
  },
  {
   "cell_type": "code",
   "execution_count": 7,
   "id": "1827f9a4",
   "metadata": {},
   "outputs": [
    {
     "name": "stderr",
     "output_type": "stream",
     "text": [
      "*** Earth Engine *** Share your feedback by taking our Annual Developer Satisfaction Survey: https://google.qualtrics.com/jfe/form/SV_7TDKVSyKvBdmMqW?ref=4i2o6\n"
     ]
    }
   ],
   "source": [
    "import ee\n",
    "import pandas as pd\n",
    "from datetime import datetime\n",
    "from dateutil.relativedelta import relativedelta\n",
    "import os\n",
    "from tqdm import tqdm\n",
    "\n",
    "ee.Initialize()"
   ]
  },
  {
   "cell_type": "markdown",
   "id": "07e37831",
   "metadata": {},
   "source": [
    "## Initialize functions for Landsat DSWE"
   ]
  },
  {
   "cell_type": "code",
   "execution_count": 3,
   "id": "072f60c0",
   "metadata": {},
   "outputs": [],
   "source": [
    "def generate_monthly_ids(folder_prefix, prefix_label, start_year, start_month, end_year, end_month):\n",
    "    start_date = datetime(start_year, start_month, 1)\n",
    "    end_date = datetime(end_year, end_month, 1)\n",
    "    image_ids = []\n",
    "\n",
    "    while start_date <= end_date:\n",
    "        year = start_date.year\n",
    "        month = f\"{start_date.month:02d}\"\n",
    "        img_id = f\"{folder_prefix}/{prefix_label}_{year}_{month}\"\n",
    "        date_str = f\"{year}-{month}\"\n",
    "        image_ids.append((img_id, date_str))\n",
    "        start_date += relativedelta(months=1)\n",
    "\n",
    "    return image_ids\n",
    "\n",
    "def compute_dswe_stats(image_id, date_str, scale=30):\n",
    "    stats = {'date': date_str}\n",
    "    classes = [0, 1, 2, 3, 4]\n",
    "\n",
    "    try:\n",
    "        image = ee.Image(image_id).select('dswe')\n",
    "\n",
    "        for cls in classes:\n",
    "            count = image.eq(cls).reduceRegion(\n",
    "                reducer=ee.Reducer.sum(),\n",
    "                scale=scale,\n",
    "                maxPixels=1e13\n",
    "            ).get('dswe')\n",
    "            area_km2 = ee.Number(count).multiply(scale * scale).divide(1e6)\n",
    "            stats[f'count_{cls}'] = count.getInfo() if count else 0\n",
    "            stats[f'area_km2_{cls}'] = area_km2.getInfo() if area_km2 else 0\n",
    "\n",
    "        water_mask = image.gt(0)\n",
    "        water_count = water_mask.reduceRegion(\n",
    "            reducer=ee.Reducer.sum(),\n",
    "            scale=scale,\n",
    "            maxPixels=1e13\n",
    "        ).get('dswe')\n",
    "        water_area = ee.Number(water_count).multiply(scale * scale).divide(1e6)\n",
    "\n",
    "        stats['count_1to4'] = water_count.getInfo() if water_count else 0\n",
    "        stats['area_km2_1to4'] = water_area.getInfo() if water_area else 0\n",
    "\n",
    "        return stats\n",
    "\n",
    "    except Exception:\n",
    "        print(f\"⚠️ DSWE image not found or failed to process: {image_id}\")\n",
    "        return None\n",
    "\n",
    "def compute_qc_stats(qc_image_id, scale=30):\n",
    "    try:\n",
    "        image = ee.Image(qc_image_id).select('expansion_mask')\n",
    "    except Exception:\n",
    "        print(f\"⚠️ QC image not found or failed to process: {qc_image_id}\")\n",
    "        return {}\n",
    "\n",
    "    stats = {}\n",
    "\n",
    "    for value in range(7):  # QC values 0–6\n",
    "        mask = image.eq(value)\n",
    "        count = mask.reduceRegion(\n",
    "            reducer=ee.Reducer.sum(),\n",
    "            scale=scale,\n",
    "            maxPixels=1e13\n",
    "        ).get('expansion_mask')\n",
    "        area_km2 = ee.Number(count).multiply(scale * scale).divide(1e6)\n",
    "        stats[f'qc_count_{value}'] = count.getInfo() if count else 0\n",
    "        stats[f'qc_area_km2_{value}'] = area_km2.getInfo() if area_km2 else 0\n",
    "\n",
    "    # Total stats\n",
    "    pixel_count = image.reduceRegion(\n",
    "        reducer=ee.Reducer.count(),\n",
    "        scale=scale,\n",
    "        maxPixels=1e13\n",
    "    ).get('expansion_mask')\n",
    "\n",
    "    mean_value = image.reduceRegion(\n",
    "        reducer=ee.Reducer.mean(),\n",
    "        scale=scale,\n",
    "        maxPixels=1e13\n",
    "    ).get('expansion_mask')\n",
    "\n",
    "    total_area = ee.Number(pixel_count).multiply(scale * scale).divide(1e6)\n",
    "\n",
    "    stats['qc_pixel_count'] = pixel_count.getInfo() if pixel_count else 0\n",
    "    stats['qc_area_km2'] = total_area.getInfo() if total_area else 0\n",
    "    stats['qc_avg_value'] = mean_value.getInfo() if mean_value else None\n",
    "\n",
    "    return stats\n",
    "\n",
    "def batch_process_LS_dswe_with_qc(dswe_folder, qc_folder, start_year, start_month, end_year, end_month, output_csv_path):\n",
    "    image_entries = generate_monthly_ids(dswe_folder, 'DSWE', start_year, start_month, end_year, end_month)\n",
    "    all_stats = []\n",
    "\n",
    "    for dswe_id, date_str in image_entries:\n",
    "        print(f\"📅 Processing {date_str}...\")\n",
    "        dswe_stats = compute_dswe_stats(dswe_id, date_str)\n",
    "        if dswe_stats:\n",
    "            year, month = date_str.split('-')\n",
    "            qc_id = f\"{qc_folder}/QC_{year}_{month}\"\n",
    "            qc_stats = compute_qc_stats(qc_id)\n",
    "            all_stats.append(dswe_stats | qc_stats)\n",
    "\n",
    "    df = pd.DataFrame(all_stats)\n",
    "    df['date'] = pd.to_datetime(df['date'], format='%Y-%m')\n",
    "    df = df.sort_values(by='date')\n",
    "\n",
    "    os.makedirs(os.path.dirname(output_csv_path), exist_ok=True)\n",
    "    df.to_csv(output_csv_path, index=False)\n",
    "    print(f\"✅ CSV saved to: {output_csv_path}\")"
   ]
  },
  {
   "cell_type": "markdown",
   "id": "4f82158a",
   "metadata": {},
   "source": [
    "## Initialize functions for Sentinel-2 DSWE"
   ]
  },
  {
   "cell_type": "code",
   "execution_count": 9,
   "id": "90f937ed",
   "metadata": {},
   "outputs": [],
   "source": [
    "# Monthly ID Generator\n",
    "def generate_s2_monthly_ids(dswe_folder, start_year, start_month, end_year, end_month):\n",
    "    start_date = datetime(start_year, start_month, 1)\n",
    "    end_date = datetime(end_year, end_month, 1)\n",
    "    image_ids = []\n",
    "\n",
    "    while start_date <= end_date:\n",
    "        year = start_date.year\n",
    "        month = f\"{start_date.month:02d}\"\n",
    "        image_id = f\"{dswe_folder}/DSWE_{year}_{month}\"\n",
    "        date_str = f\"{year}-{month}\"\n",
    "        image_ids.append((image_id, date_str))\n",
    "        start_date += relativedelta(months=1)\n",
    "\n",
    "    return image_ids\n",
    "\n",
    "# Pixel Count and Area\n",
    "def calculate_area_from_class(image, cls, scale, region=None):\n",
    "    pixel_count = image.eq(cls).reduceRegion(\n",
    "        reducer=ee.Reducer.sum(),\n",
    "        geometry=region,\n",
    "        scale=scale,\n",
    "        maxPixels=1e13\n",
    "    ).get('DSWE')\n",
    "\n",
    "    area_km2 = ee.Number(pixel_count).multiply(scale * scale).divide(1e6)\n",
    "    return pixel_count, area_km2\n",
    "\n",
    "# DSWE Stats Function\n",
    "def compute_s2_dswe_stats(image_id, date_str, scale=10, region=None):\n",
    "    stats = {'date': date_str}\n",
    "    classes = [0, 1, 2, 3, 4]\n",
    "\n",
    "    try:\n",
    "        image = ee.Image(image_id).select('DSWE')\n",
    "\n",
    "        for cls in classes:\n",
    "            count, area = calculate_area_from_class(image, cls, scale, region)\n",
    "            stats[f'count_{cls}'] = count.getInfo() if count else 0\n",
    "            stats[f'area_km2_{cls}'] = area.getInfo() if area else 0\n",
    "\n",
    "        water_mask = image.gt(0)\n",
    "        water_count = water_mask.reduceRegion(\n",
    "            reducer=ee.Reducer.sum(),\n",
    "            geometry=region,\n",
    "            scale=scale,\n",
    "            maxPixels=1e13\n",
    "        ).get('DSWE')\n",
    "\n",
    "        water_area = ee.Number(water_count).multiply(scale * scale).divide(1e6)\n",
    "        stats['count_1to4'] = water_count.getInfo() if water_count else 0\n",
    "        stats['area_km2_1to4'] = water_area.getInfo() if water_area else 0\n",
    "\n",
    "        return stats\n",
    "\n",
    "    except Exception as e:\n",
    "        print(f\"⚠️ Error processing {image_id}: {e}\")\n",
    "        return None\n",
    "\n",
    "# Main Batch Processor\n",
    "def batch_process_S2_dswe(dswe_folder, start_year, start_month, end_year, end_month, output_csv_path, region=None):\n",
    "    image_ids = generate_s2_monthly_ids(dswe_folder, start_year, start_month, end_year, end_month)\n",
    "    results = []\n",
    "\n",
    "    print(f\"🔄 Processing {len(image_ids)} Sentinel-2 DSWE images...\")\n",
    "\n",
    "    for image_id, date_str in tqdm(image_ids):\n",
    "        stats = compute_s2_dswe_stats(image_id, date_str, scale=10, region=region)\n",
    "        if stats:\n",
    "            results.append(stats)\n",
    "\n",
    "    df = pd.DataFrame(results)\n",
    "    df.to_csv(output_csv_path, index=False)\n",
    "    print(f\"✅ DSWE summary saved to: {output_csv_path}\")"
   ]
  },
  {
   "cell_type": "markdown",
   "id": "d646fba6",
   "metadata": {},
   "source": [
    "## Execute code for date range"
   ]
  },
  {
   "cell_type": "code",
   "execution_count": 2,
   "id": "c6d5086a",
   "metadata": {},
   "outputs": [
    {
     "ename": "NameError",
     "evalue": "name 'batch_process_LS_dswe_with_qc' is not defined",
     "output_type": "error",
     "traceback": [
      "\u001b[31m---------------------------------------------------------------------------\u001b[39m",
      "\u001b[31mNameError\u001b[39m                                 Traceback (most recent call last)",
      "\u001b[36mCell\u001b[39m\u001b[36m \u001b[39m\u001b[32mIn[2]\u001b[39m\u001b[32m, line 1\u001b[39m\n\u001b[32m----> \u001b[39m\u001b[32m1\u001b[39m batch_process_LS_dswe_with_qc(\n\u001b[32m      2\u001b[39m     dswe_folder=\u001b[33m'\u001b[39m\u001b[33mprojects/ee-okavango/assets/water_masks/monthly_DSWE_Landsat_30m_v2/DSWE_Products\u001b[39m\u001b[33m'\u001b[39m,\n\u001b[32m      3\u001b[39m     qc_folder=\u001b[33m'\u001b[39m\u001b[33mprojects/ee-okavango/assets/water_masks/monthly_DSWE_Landsat_30m_v2/QC_Masks\u001b[39m\u001b[33m'\u001b[39m,\n\u001b[32m      4\u001b[39m     start_year=\u001b[32m1984\u001b[39m,\n\u001b[32m      5\u001b[39m     start_month=\u001b[32m6\u001b[39m,\n\u001b[32m      6\u001b[39m     end_year=\u001b[32m2025\u001b[39m,\n\u001b[32m      7\u001b[39m     end_month=\u001b[32m7\u001b[39m,\n\u001b[32m      8\u001b[39m     output_csv_path=\u001b[33mr\u001b[39m\u001b[33m'\u001b[39m\u001b[33mC:\u001b[39m\u001b[33m\\\u001b[39m\u001b[33mUsers\u001b[39m\u001b[33m\\\u001b[39m\u001b[33mhuckr\u001b[39m\u001b[33m\\\u001b[39m\u001b[33mDesktop\u001b[39m\u001b[33m\\\u001b[39m\u001b[33mUCSB\u001b[39m\u001b[33m\\\u001b[39m\u001b[33mOkavango\u001b[39m\u001b[33m\\\u001b[39m\u001b[33mData\u001b[39m\u001b[33m\\\u001b[39m\u001b[33mInundation\u001b[39m\u001b[33m\\\u001b[39m\u001b[33mExtents\u001b[39m\u001b[33m\\\u001b[39m\u001b[33mLS_dswe_monthly_summary_08182025.csv\u001b[39m\u001b[33m'\u001b[39m\n\u001b[32m      9\u001b[39m )\n",
      "\u001b[31mNameError\u001b[39m: name 'batch_process_LS_dswe_with_qc' is not defined"
     ]
    }
   ],
   "source": [
    "batch_process_LS_dswe_with_qc(\n",
    "    dswe_folder='projects/ee-okavango/assets/water_masks/monthly_DSWE_Landsat_30m_v2/DSWE_Products',\n",
    "    qc_folder='projects/ee-okavango/assets/water_masks/monthly_DSWE_Landsat_30m_v2/QC_Masks',\n",
    "    start_year=1984,\n",
    "    start_month=6,\n",
    "    end_year=2025,\n",
    "    end_month=7,\n",
    "    output_csv_path=r'C:\\Users\\huckr\\Desktop\\UCSB\\Okavango\\Data\\Inundation\\Extents\\LS_dswe_monthly_summary_08182025.csv'\n",
    ")\n"
   ]
  },
  {
   "cell_type": "code",
   "execution_count": 10,
   "id": "849658e7",
   "metadata": {},
   "outputs": [
    {
     "name": "stdout",
     "output_type": "stream",
     "text": [
      "🔄 Processing 104 Sentinel-2 DSWE images...\n"
     ]
    },
    {
     "name": "stderr",
     "output_type": "stream",
     "text": [
      "  1%|▊                                                                                 | 1/104 [00:00<00:18,  5.67it/s]"
     ]
    },
    {
     "name": "stdout",
     "output_type": "stream",
     "text": [
      "⚠️ Error processing projects/ee-okavango/assets/water_masks/monthly_DSWE_Sent2_10m_v2/DSWE_Products/DSWE_2017_01: Image.load: Image asset 'projects/ee-okavango/assets/water_masks/monthly_DSWE_Sent2_10m_v2/DSWE_Products/DSWE_2017_01' not found (does not exist or caller does not have access).\n"
     ]
    },
    {
     "name": "stderr",
     "output_type": "stream",
     "text": [
      "\r",
      "  2%|█▌                                                                                | 2/104 [00:00<00:16,  6.05it/s]"
     ]
    },
    {
     "name": "stdout",
     "output_type": "stream",
     "text": [
      "⚠️ Error processing projects/ee-okavango/assets/water_masks/monthly_DSWE_Sent2_10m_v2/DSWE_Products/DSWE_2017_02: Image.load: Image asset 'projects/ee-okavango/assets/water_masks/monthly_DSWE_Sent2_10m_v2/DSWE_Products/DSWE_2017_02' not found (does not exist or caller does not have access).\n"
     ]
    },
    {
     "name": "stderr",
     "output_type": "stream",
     "text": [
      "\r",
      "  3%|██▎                                                                               | 3/104 [00:00<00:16,  6.27it/s]"
     ]
    },
    {
     "name": "stdout",
     "output_type": "stream",
     "text": [
      "⚠️ Error processing projects/ee-okavango/assets/water_masks/monthly_DSWE_Sent2_10m_v2/DSWE_Products/DSWE_2017_03: Image.load: Image asset 'projects/ee-okavango/assets/water_masks/monthly_DSWE_Sent2_10m_v2/DSWE_Products/DSWE_2017_03' not found (does not exist or caller does not have access).\n"
     ]
    },
    {
     "name": "stderr",
     "output_type": "stream",
     "text": [
      "\r",
      "  4%|███▏                                                                              | 4/104 [00:00<00:15,  6.34it/s]"
     ]
    },
    {
     "name": "stdout",
     "output_type": "stream",
     "text": [
      "⚠️ Error processing projects/ee-okavango/assets/water_masks/monthly_DSWE_Sent2_10m_v2/DSWE_Products/DSWE_2017_04: Image.load: Image asset 'projects/ee-okavango/assets/water_masks/monthly_DSWE_Sent2_10m_v2/DSWE_Products/DSWE_2017_04' not found (does not exist or caller does not have access).\n"
     ]
    },
    {
     "name": "stderr",
     "output_type": "stream",
     "text": [
      "\r",
      "  5%|███▉                                                                              | 5/104 [00:00<00:15,  6.49it/s]"
     ]
    },
    {
     "name": "stdout",
     "output_type": "stream",
     "text": [
      "⚠️ Error processing projects/ee-okavango/assets/water_masks/monthly_DSWE_Sent2_10m_v2/DSWE_Products/DSWE_2017_05: Image.load: Image asset 'projects/ee-okavango/assets/water_masks/monthly_DSWE_Sent2_10m_v2/DSWE_Products/DSWE_2017_05' not found (does not exist or caller does not have access).\n"
     ]
    },
    {
     "name": "stderr",
     "output_type": "stream",
     "text": [
      "\r",
      "  6%|████▋                                                                             | 6/104 [00:00<00:16,  6.04it/s]"
     ]
    },
    {
     "name": "stdout",
     "output_type": "stream",
     "text": [
      "⚠️ Error processing projects/ee-okavango/assets/water_masks/monthly_DSWE_Sent2_10m_v2/DSWE_Products/DSWE_2017_06: Image.load: Image asset 'projects/ee-okavango/assets/water_masks/monthly_DSWE_Sent2_10m_v2/DSWE_Products/DSWE_2017_06' not found (does not exist or caller does not have access).\n"
     ]
    },
    {
     "name": "stderr",
     "output_type": "stream",
     "text": [
      "\r",
      "  7%|█████▌                                                                            | 7/104 [00:01<00:15,  6.07it/s]"
     ]
    },
    {
     "name": "stdout",
     "output_type": "stream",
     "text": [
      "⚠️ Error processing projects/ee-okavango/assets/water_masks/monthly_DSWE_Sent2_10m_v2/DSWE_Products/DSWE_2017_07: Image.load: Image asset 'projects/ee-okavango/assets/water_masks/monthly_DSWE_Sent2_10m_v2/DSWE_Products/DSWE_2017_07' not found (does not exist or caller does not have access).\n"
     ]
    },
    {
     "name": "stderr",
     "output_type": "stream",
     "text": [
      "\r",
      "  8%|██████▎                                                                           | 8/104 [00:01<00:15,  6.06it/s]"
     ]
    },
    {
     "name": "stdout",
     "output_type": "stream",
     "text": [
      "⚠️ Error processing projects/ee-okavango/assets/water_masks/monthly_DSWE_Sent2_10m_v2/DSWE_Products/DSWE_2017_08: Image.load: Image asset 'projects/ee-okavango/assets/water_masks/monthly_DSWE_Sent2_10m_v2/DSWE_Products/DSWE_2017_08' not found (does not exist or caller does not have access).\n"
     ]
    },
    {
     "name": "stderr",
     "output_type": "stream",
     "text": [
      "\r",
      "  9%|███████                                                                           | 9/104 [00:01<00:15,  6.10it/s]"
     ]
    },
    {
     "name": "stdout",
     "output_type": "stream",
     "text": [
      "⚠️ Error processing projects/ee-okavango/assets/water_masks/monthly_DSWE_Sent2_10m_v2/DSWE_Products/DSWE_2017_09: Image.load: Image asset 'projects/ee-okavango/assets/water_masks/monthly_DSWE_Sent2_10m_v2/DSWE_Products/DSWE_2017_09' not found (does not exist or caller does not have access).\n"
     ]
    },
    {
     "name": "stderr",
     "output_type": "stream",
     "text": [
      " 11%|████████▌                                                                        | 11/104 [00:01<00:16,  5.68it/s]"
     ]
    },
    {
     "name": "stdout",
     "output_type": "stream",
     "text": [
      "⚠️ Error processing projects/ee-okavango/assets/water_masks/monthly_DSWE_Sent2_10m_v2/DSWE_Products/DSWE_2017_10: Image.load: Image asset 'projects/ee-okavango/assets/water_masks/monthly_DSWE_Sent2_10m_v2/DSWE_Products/DSWE_2017_10' not found (does not exist or caller does not have access).\n",
      "⚠️ Error processing projects/ee-okavango/assets/water_masks/monthly_DSWE_Sent2_10m_v2/DSWE_Products/DSWE_2017_11: Image.load: Image asset 'projects/ee-okavango/assets/water_masks/monthly_DSWE_Sent2_10m_v2/DSWE_Products/DSWE_2017_11' not found (does not exist or caller does not have access).\n"
     ]
    },
    {
     "name": "stderr",
     "output_type": "stream",
     "text": [
      " 12%|██████████▏                                                                      | 13/104 [00:02<00:16,  5.58it/s]"
     ]
    },
    {
     "name": "stdout",
     "output_type": "stream",
     "text": [
      "⚠️ Error processing projects/ee-okavango/assets/water_masks/monthly_DSWE_Sent2_10m_v2/DSWE_Products/DSWE_2017_12: Image.load: Image asset 'projects/ee-okavango/assets/water_masks/monthly_DSWE_Sent2_10m_v2/DSWE_Products/DSWE_2017_12' not found (does not exist or caller does not have access).\n",
      "⚠️ Error processing projects/ee-okavango/assets/water_masks/monthly_DSWE_Sent2_10m_v2/DSWE_Products/DSWE_2018_01: Image.load: Image asset 'projects/ee-okavango/assets/water_masks/monthly_DSWE_Sent2_10m_v2/DSWE_Products/DSWE_2018_01' not found (does not exist or caller does not have access).\n"
     ]
    },
    {
     "name": "stderr",
     "output_type": "stream",
     "text": [
      " 14%|███████████▋                                                                     | 15/104 [00:02<00:15,  5.68it/s]"
     ]
    },
    {
     "name": "stdout",
     "output_type": "stream",
     "text": [
      "⚠️ Error processing projects/ee-okavango/assets/water_masks/monthly_DSWE_Sent2_10m_v2/DSWE_Products/DSWE_2018_02: Image.load: Image asset 'projects/ee-okavango/assets/water_masks/monthly_DSWE_Sent2_10m_v2/DSWE_Products/DSWE_2018_02' not found (does not exist or caller does not have access).\n",
      "⚠️ Error processing projects/ee-okavango/assets/water_masks/monthly_DSWE_Sent2_10m_v2/DSWE_Products/DSWE_2018_03: Image.load: Image asset 'projects/ee-okavango/assets/water_masks/monthly_DSWE_Sent2_10m_v2/DSWE_Products/DSWE_2018_03' not found (does not exist or caller does not have access).\n"
     ]
    },
    {
     "name": "stderr",
     "output_type": "stream",
     "text": [
      " 16%|█████████████▏                                                                   | 17/104 [00:02<00:15,  5.49it/s]"
     ]
    },
    {
     "name": "stdout",
     "output_type": "stream",
     "text": [
      "⚠️ Error processing projects/ee-okavango/assets/water_masks/monthly_DSWE_Sent2_10m_v2/DSWE_Products/DSWE_2018_04: Image.load: Image asset 'projects/ee-okavango/assets/water_masks/monthly_DSWE_Sent2_10m_v2/DSWE_Products/DSWE_2018_04' not found (does not exist or caller does not have access).\n",
      "⚠️ Error processing projects/ee-okavango/assets/water_masks/monthly_DSWE_Sent2_10m_v2/DSWE_Products/DSWE_2018_05: Image.load: Image asset 'projects/ee-okavango/assets/water_masks/monthly_DSWE_Sent2_10m_v2/DSWE_Products/DSWE_2018_05' not found (does not exist or caller does not have access).\n"
     ]
    },
    {
     "name": "stderr",
     "output_type": "stream",
     "text": [
      " 18%|██████████████▊                                                                  | 19/104 [00:03<00:15,  5.66it/s]"
     ]
    },
    {
     "name": "stdout",
     "output_type": "stream",
     "text": [
      "⚠️ Error processing projects/ee-okavango/assets/water_masks/monthly_DSWE_Sent2_10m_v2/DSWE_Products/DSWE_2018_06: Image.load: Image asset 'projects/ee-okavango/assets/water_masks/monthly_DSWE_Sent2_10m_v2/DSWE_Products/DSWE_2018_06' not found (does not exist or caller does not have access).\n",
      "⚠️ Error processing projects/ee-okavango/assets/water_masks/monthly_DSWE_Sent2_10m_v2/DSWE_Products/DSWE_2018_07: Image.load: Image asset 'projects/ee-okavango/assets/water_masks/monthly_DSWE_Sent2_10m_v2/DSWE_Products/DSWE_2018_07' not found (does not exist or caller does not have access).\n"
     ]
    },
    {
     "name": "stderr",
     "output_type": "stream",
     "text": [
      "\r",
      " 19%|███████████████▌                                                                 | 20/104 [00:03<00:14,  5.73it/s]"
     ]
    },
    {
     "name": "stdout",
     "output_type": "stream",
     "text": [
      "⚠️ Error processing projects/ee-okavango/assets/water_masks/monthly_DSWE_Sent2_10m_v2/DSWE_Products/DSWE_2018_08: Image.load: Image asset 'projects/ee-okavango/assets/water_masks/monthly_DSWE_Sent2_10m_v2/DSWE_Products/DSWE_2018_08' not found (does not exist or caller does not have access).\n"
     ]
    },
    {
     "name": "stderr",
     "output_type": "stream",
     "text": [
      " 21%|█████████████████▏                                                               | 22/104 [00:03<00:16,  4.99it/s]"
     ]
    },
    {
     "name": "stdout",
     "output_type": "stream",
     "text": [
      "⚠️ Error processing projects/ee-okavango/assets/water_masks/monthly_DSWE_Sent2_10m_v2/DSWE_Products/DSWE_2018_09: Image.load: Image asset 'projects/ee-okavango/assets/water_masks/monthly_DSWE_Sent2_10m_v2/DSWE_Products/DSWE_2018_09' not found (does not exist or caller does not have access).\n",
      "⚠️ Error processing projects/ee-okavango/assets/water_masks/monthly_DSWE_Sent2_10m_v2/DSWE_Products/DSWE_2018_10: Image.load: Image asset 'projects/ee-okavango/assets/water_masks/monthly_DSWE_Sent2_10m_v2/DSWE_Products/DSWE_2018_10' not found (does not exist or caller does not have access).\n"
     ]
    },
    {
     "name": "stderr",
     "output_type": "stream",
     "text": [
      "\r",
      " 22%|█████████████████▉                                                               | 23/104 [00:04<00:15,  5.09it/s]"
     ]
    },
    {
     "name": "stdout",
     "output_type": "stream",
     "text": [
      "⚠️ Error processing projects/ee-okavango/assets/water_masks/monthly_DSWE_Sent2_10m_v2/DSWE_Products/DSWE_2018_11: Image.load: Image asset 'projects/ee-okavango/assets/water_masks/monthly_DSWE_Sent2_10m_v2/DSWE_Products/DSWE_2018_11' not found (does not exist or caller does not have access).\n"
     ]
    },
    {
     "name": "stderr",
     "output_type": "stream",
     "text": [
      "100%|██████████████████████████████████████████████████████████████████████████████| 104/104 [1:06:14<00:00, 38.22s/it]"
     ]
    },
    {
     "name": "stdout",
     "output_type": "stream",
     "text": [
      "✅ DSWE summary saved to: C:\\Users\\huckr\\Desktop\\UCSB\\Okavango\\Data\\Inundation\\Extents\\S2_dswe_monthly_summary.csv\n"
     ]
    },
    {
     "name": "stderr",
     "output_type": "stream",
     "text": [
      "\n"
     ]
    }
   ],
   "source": [
    "batch_process_S2_dswe(\n",
    "    dswe_folder='projects/ee-okavango/assets/water_masks/monthly_DSWE_Sent2_10m_v2/DSWE_Products',\n",
    "    start_year=2017,\n",
    "    start_month=1,\n",
    "    end_year=2025,\n",
    "    end_month=8,\n",
    "    output_csv_path=r'C:\\Users\\huckr\\Desktop\\UCSB\\Okavango\\Data\\Inundation\\Extents\\S2_dswe_monthly_summary.csv'\n",
    ")\n"
   ]
  },
  {
   "cell_type": "code",
   "execution_count": null,
   "id": "c572e55b",
   "metadata": {},
   "outputs": [],
   "source": []
  }
 ],
 "metadata": {
  "kernelspec": {
   "display_name": "Python 3 (ipykernel)",
   "language": "python",
   "name": "python3"
  },
  "language_info": {
   "codemirror_mode": {
    "name": "ipython",
    "version": 3
   },
   "file_extension": ".py",
   "mimetype": "text/x-python",
   "name": "python",
   "nbconvert_exporter": "python",
   "pygments_lexer": "ipython3",
   "version": "3.11.5"
  }
 },
 "nbformat": 4,
 "nbformat_minor": 5
}
