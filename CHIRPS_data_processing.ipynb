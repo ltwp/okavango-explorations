{
 "cells": [
  {
   "cell_type": "markdown",
   "id": "bd6bd9d2",
   "metadata": {},
   "source": [
    "# Okavango CHIRPS data processing\n",
    "\n",
    "The following code reads in raster data of precipitation from the CHIRPS dataset to calculate monthly precipitation data for the study period in the upper watershed, as well as within a 100 km buffer of the study area.\n",
    "\n",
    "Author: James (Huck) Rees;\n",
    "        PhD Student, UCSB Geography\n",
    "        \n",
    "Date: February 29, 2024"
   ]
  },
  {
   "cell_type": "markdown",
   "id": "f47902a9",
   "metadata": {},
   "source": [
    "# Reset code if needed"
   ]
  },
  {
   "cell_type": "code",
   "execution_count": 1,
   "id": "c6894914",
   "metadata": {},
   "outputs": [
    {
     "name": "stdout",
     "output_type": "stream",
     "text": [
      "Once deleted, variables cannot be recovered. Proceed (y/[n])? y\n"
     ]
    }
   ],
   "source": [
    "%reset"
   ]
  },
  {
   "cell_type": "markdown",
   "id": "29f7ca22",
   "metadata": {},
   "source": [
    "# 1. Import packages"
   ]
  },
  {
   "cell_type": "code",
   "execution_count": 2,
   "id": "072fc446",
   "metadata": {},
   "outputs": [],
   "source": [
    "import geemap\n",
    "import ee\n",
    "import matplotlib.pyplot as plt\n",
    "import numpy as np\n",
    "import pandas as pd\n",
    "import geopandas as gpd\n",
    "import statistics as stats\n",
    "import scipy.stats as stats\n",
    "import json\n",
    "import folium\n",
    "from ipyleaflet import Map, DrawControl\n",
    "from shapely.geometry import shape\n",
    "from io import StringIO\n",
    "from shapely.geometry import shape\n",
    "import os\n",
    "import rasterio\n",
    "from rasterio.mask import mask\n",
    "from shapely.geometry import box\n",
    "from rasterio.plot import show\n",
    "from shapely.geometry import mapping\n",
    "import requests\n",
    "import os\n",
    "import gzip\n",
    "import shutil\n",
    "from datetime import datetime\n",
    "import fiona\n",
    "import re\n",
    "import matplotlib.dates as mdates\n",
    "from itertools import cycle\n",
    "import csv\n",
    "ee.Initialize()"
   ]
  },
  {
   "cell_type": "markdown",
   "id": "3b43b1bb",
   "metadata": {},
   "source": [
    "# CHIRPS Data Processing and Preliminary Analysis"
   ]
  },
  {
   "cell_type": "markdown",
   "id": "bef604df",
   "metadata": {},
   "source": [
    "## 1. Scrape monthly CHIRPS data from online repository\n",
    "Be cautious with this function. It will take a while to run "
   ]
  },
  {
   "cell_type": "code",
   "execution_count": 3,
   "id": "b812c21d",
   "metadata": {},
   "outputs": [
    {
     "data": {
      "text/html": [
       "\n",
       "            <style>\n",
       "                .geemap-dark {\n",
       "                    --jp-widgets-color: white;\n",
       "                    --jp-widgets-label-color: white;\n",
       "                    --jp-ui-font-color1: white;\n",
       "                    --jp-layout-color2: #454545;\n",
       "                    background-color: #383838;\n",
       "                }\n",
       "\n",
       "                .geemap-dark .jupyter-button {\n",
       "                    --jp-layout-color3: #383838;\n",
       "                }\n",
       "\n",
       "                .geemap-colab {\n",
       "                    background-color: var(--colab-primary-surface-color, white);\n",
       "                }\n",
       "\n",
       "                .geemap-colab .jupyter-button {\n",
       "                    --jp-layout-color3: var(--colab-primary-surface-color, white);\n",
       "                }\n",
       "            </style>\n",
       "            "
      ],
      "text/plain": [
       "<IPython.core.display.HTML object>"
      ]
     },
     "metadata": {},
     "output_type": "display_data"
    }
   ],
   "source": [
    "def download_and_extract_chirps(start_year, end_year, target_directory):\n",
    "    base_url = \"https://data.chc.ucsb.edu/products/CHIRPS-2.0/africa_dekad/tifs/\"\n",
    "    \n",
    "    if not os.path.exists(target_directory):\n",
    "        os.makedirs(target_directory)\n",
    "\n",
    "    for year in range(start_year, end_year + 1):\n",
    "        for month in range(1, 13):\n",
    "            for dekad in range(1, 4):\n",
    "                filename = f\"chirps-v2.0.{year}.{month:02d}.{dekad}.tif.gz\"\n",
    "                url = f\"{base_url}/{filename}\"\n",
    "                \n",
    "                # Download the file\n",
    "                print(f\"Downloading {url}\")\n",
    "                response = requests.get(url, stream=True)\n",
    "                if response.status_code == 200:\n",
    "                    gz_path = os.path.join(target_directory, filename)\n",
    "                    with open(gz_path, 'wb') as f:\n",
    "                        f.write(response.content)\n",
    "                    \n",
    "                    # Extract the .tif file\n",
    "                    tif_path = gz_path[:-3]  # Remove the '.gz' extension\n",
    "                    with gzip.open(gz_path, 'rb') as f_in:\n",
    "                        with open(tif_path, 'wb') as f_out:\n",
    "                            shutil.copyfileobj(f_in, f_out)\n",
    "                    \n",
    "                    # Optionally, remove the .gz file after extraction\n",
    "                    os.remove(gz_path)\n",
    "                else:\n",
    "                    print(f\"Failed to download {url}\")"
   ]
  },
  {
   "cell_type": "markdown",
   "id": "550f99f6",
   "metadata": {},
   "source": [
    "## 2. Clip rasters to study area boundaries and get precipitation at each dekad time step"
   ]
  },
  {
   "cell_type": "code",
   "execution_count": 4,
   "id": "b07d799b",
   "metadata": {},
   "outputs": [
    {
     "data": {
      "text/html": [
       "\n",
       "            <style>\n",
       "                .geemap-dark {\n",
       "                    --jp-widgets-color: white;\n",
       "                    --jp-widgets-label-color: white;\n",
       "                    --jp-ui-font-color1: white;\n",
       "                    --jp-layout-color2: #454545;\n",
       "                    background-color: #383838;\n",
       "                }\n",
       "\n",
       "                .geemap-dark .jupyter-button {\n",
       "                    --jp-layout-color3: #383838;\n",
       "                }\n",
       "\n",
       "                .geemap-colab {\n",
       "                    background-color: var(--colab-primary-surface-color, white);\n",
       "                }\n",
       "\n",
       "                .geemap-colab .jupyter-button {\n",
       "                    --jp-layout-color3: var(--colab-primary-surface-color, white);\n",
       "                }\n",
       "            </style>\n",
       "            "
      ],
      "text/plain": [
       "<IPython.core.display.HTML object>"
      ]
     },
     "metadata": {},
     "output_type": "display_data"
    }
   ],
   "source": [
    "def rasterio_clip_and_calculate_mean(shapefile_path, raster_path, output_raster_path):\n",
    "    with fiona.open(shapefile_path, \"r\") as shapefile:\n",
    "        shapes = [feature[\"geometry\"] for feature in shapefile]\n",
    "    \n",
    "    with rasterio.open(raster_path) as src:\n",
    "        out_image, out_transform = rasterio.mask.mask(src, shapes, crop=True, nodata=0)\n",
    "        out_meta = src.meta\n",
    "    \n",
    "    masked_array = np.ma.masked_equal(out_image, 0)\n",
    "    mean_value = masked_array.mean()\n",
    "    \n",
    "    if np.ma.is_masked(mean_value):\n",
    "        mean_value = np.nan  # Handle completely masked arrays\n",
    "    \n",
    "    out_meta.update({\"driver\": \"GTiff\", \"height\": out_image.shape[1], \"width\": out_image.shape[2], \"transform\": out_transform})\n",
    "    with rasterio.open(output_raster_path, \"w\", **out_meta) as dest:\n",
    "        dest.write(out_image)\n",
    "    \n",
    "    return mean_value\n",
    "\n",
    "def process_folder(input_folder, shapefile_path, output_folder):\n",
    "    raster_files = [f for f in os.listdir(input_folder) if f.endswith('.tif')]\n",
    "    results = []  # Use a list to collect dictionaries\n",
    "\n",
    "    for raster_file in raster_files:\n",
    "        raster_path = os.path.join(input_folder, raster_file)\n",
    "        output_raster_path = os.path.join(output_folder, f\"Clipped_{raster_file}\")\n",
    "        \n",
    "        match = re.search(r'(\\d{4})\\.(\\d{2})\\.(\\d)\\.tif', raster_file)\n",
    "        if match:\n",
    "            year, month, dekad = match.groups()\n",
    "            # Approximate the day based on dekad\n",
    "            day_map = {'1': '05', '2': '15', '3': '25'}\n",
    "            approx_day = day_map[dekad]\n",
    "            date = f\"{year}-{month}-{approx_day}\"\n",
    "            \n",
    "            mean_value = rasterio_clip_and_calculate_mean(shapefile_path, raster_path, output_raster_path)\n",
    "            \n",
    "            # Add the constructed date and mean value to the results list\n",
    "            results.append({\"Date\": pd.to_datetime(date, format=\"%Y-%m-%d\"), \"Year\": year, \"Month\": month, \"Dekad\": dekad, \"Mean pixel value\": mean_value})\n",
    "        else:\n",
    "            print(f\"Filename does not match expected format and will be skipped: {raster_file}\")\n",
    "\n",
    "    # Convert the list of dictionaries to a DataFrame and sort by Date\n",
    "    df = pd.DataFrame(results).sort_values(by=\"Date\")\n",
    "    return df"
   ]
  },
  {
   "cell_type": "markdown",
   "id": "f57f4768",
   "metadata": {},
   "source": [
    "## 3. Creates dataframe of cumulative precipitation by water year from dataframe of dekad precipitation"
   ]
  },
  {
   "cell_type": "code",
   "execution_count": 5,
   "id": "da5aa2d1",
   "metadata": {},
   "outputs": [
    {
     "data": {
      "text/html": [
       "\n",
       "            <style>\n",
       "                .geemap-dark {\n",
       "                    --jp-widgets-color: white;\n",
       "                    --jp-widgets-label-color: white;\n",
       "                    --jp-ui-font-color1: white;\n",
       "                    --jp-layout-color2: #454545;\n",
       "                    background-color: #383838;\n",
       "                }\n",
       "\n",
       "                .geemap-dark .jupyter-button {\n",
       "                    --jp-layout-color3: #383838;\n",
       "                }\n",
       "\n",
       "                .geemap-colab {\n",
       "                    background-color: var(--colab-primary-surface-color, white);\n",
       "                }\n",
       "\n",
       "                .geemap-colab .jupyter-button {\n",
       "                    --jp-layout-color3: var(--colab-primary-surface-color, white);\n",
       "                }\n",
       "            </style>\n",
       "            "
      ],
      "text/plain": [
       "<IPython.core.display.HTML object>"
      ]
     },
     "metadata": {},
     "output_type": "display_data"
    }
   ],
   "source": [
    "def add_cumulative_rainfall(df):\n",
    "    # Convert 'Date' to datetime if it's not already\n",
    "    df['Date'] = pd.to_datetime(df['Date'])\n",
    "    \n",
    "    # Define a function to determine the water year\n",
    "    def get_water_year(date):\n",
    "        if date.month >= 7:\n",
    "            return date.year + 1  # Water year starts in July\n",
    "        else:\n",
    "            return date.year\n",
    "    \n",
    "    # Apply the function to create a new 'Water Year' column\n",
    "    df['Water Year'] = df['Date'].apply(get_water_year)\n",
    "    \n",
    "    # Sort the DataFrame by Date to ensure correct cumulative sum calculation\n",
    "    df = df.sort_values(by='Date')\n",
    "    \n",
    "    # Group by 'Water Year' and calculate the cumulative sum of precipitation within each group\n",
    "    df['Cumulative Rainfall'] = df.groupby('Water Year')['Mean pixel value'].cumsum()\n",
    "    \n",
    "    return df"
   ]
  },
  {
   "cell_type": "markdown",
   "id": "dc0c5051",
   "metadata": {},
   "source": [
    "## 4. Calculate total precipitation for the water year"
   ]
  },
  {
   "cell_type": "code",
   "execution_count": 6,
   "id": "3d885982",
   "metadata": {},
   "outputs": [
    {
     "data": {
      "text/html": [
       "\n",
       "            <style>\n",
       "                .geemap-dark {\n",
       "                    --jp-widgets-color: white;\n",
       "                    --jp-widgets-label-color: white;\n",
       "                    --jp-ui-font-color1: white;\n",
       "                    --jp-layout-color2: #454545;\n",
       "                    background-color: #383838;\n",
       "                }\n",
       "\n",
       "                .geemap-dark .jupyter-button {\n",
       "                    --jp-layout-color3: #383838;\n",
       "                }\n",
       "\n",
       "                .geemap-colab {\n",
       "                    background-color: var(--colab-primary-surface-color, white);\n",
       "                }\n",
       "\n",
       "                .geemap-colab .jupyter-button {\n",
       "                    --jp-layout-color3: var(--colab-primary-surface-color, white);\n",
       "                }\n",
       "            </style>\n",
       "            "
      ],
      "text/plain": [
       "<IPython.core.display.HTML object>"
      ]
     },
     "metadata": {},
     "output_type": "display_data"
    }
   ],
   "source": [
    "def summarize_precipitation_by_wateryear(results_df):\n",
    "    # Ensure 'Date' column is of datetime type\n",
    "    results_df['Date'] = pd.to_datetime(results_df['Date'])\n",
    "\n",
    "    # Generate 'Water Year' column based on the date\n",
    "    results_df['Water Year'] = results_df['Date'].apply(lambda x: f\"{x.year-1}_{x.year}\" if x.month < 7 else f\"{x.year}_{x.year+1}\")\n",
    "\n",
    "    # Group by 'Water Year' and sum the 'Mean pixel value' for each group\n",
    "    summary_df = results_df.groupby('Water Year')['Mean pixel value'].sum().reset_index()\n",
    "\n",
    "    # Rename the columns for clarity\n",
    "    summary_df.columns = ['Water Year', 'Total Precipitation (mm)']\n",
    "\n",
    "    return summary_df"
   ]
  },
  {
   "cell_type": "markdown",
   "id": "0cb08ea4",
   "metadata": {},
   "source": [
    "## 5. Run code to dowload and process CHIRPS data"
   ]
  },
  {
   "cell_type": "code",
   "execution_count": null,
   "id": "96bfe0fb",
   "metadata": {},
   "outputs": [],
   "source": [
    "# This folder is a destiantion for continent-level dedadal CHIRPS data:\n",
    "CHIRPS_Dekad_Africa_FolderPath = r'C:\\Users\\huckr\\Desktop\\UCSB\\Okavango\\Data\\Precip\\Dekad_Africa'\n",
    "CHIRPS_Dekad_Africa_StartYear = 2024\n",
    "CHIRPS_Dekad_Africa_EndYear = 2025\n",
    "\n",
    "# Be cautious with this function. It will take a while to run\n",
    "download_and_extract_chirps(CHIRPS_Dekad_Africa_StartYear, CHIRPS_Dekad_Africa_EndYear, CHIRPS_Dekad_Africa_FolderPath)"
   ]
  },
  {
   "cell_type": "code",
   "execution_count": 11,
   "id": "655c132b",
   "metadata": {},
   "outputs": [
    {
     "data": {
      "text/html": [
       "\n",
       "            <style>\n",
       "                .geemap-dark {\n",
       "                    --jp-widgets-color: white;\n",
       "                    --jp-widgets-label-color: white;\n",
       "                    --jp-ui-font-color1: white;\n",
       "                    --jp-layout-color2: #454545;\n",
       "                    background-color: #383838;\n",
       "                }\n",
       "\n",
       "                .geemap-dark .jupyter-button {\n",
       "                    --jp-layout-color3: #383838;\n",
       "                }\n",
       "\n",
       "                .geemap-colab {\n",
       "                    background-color: var(--colab-primary-surface-color, white);\n",
       "                }\n",
       "\n",
       "                .geemap-colab .jupyter-button {\n",
       "                    --jp-layout-color3: var(--colab-primary-surface-color, white);\n",
       "                }\n",
       "            </style>\n",
       "            "
      ],
      "text/plain": [
       "<IPython.core.display.HTML object>"
      ]
     },
     "metadata": {},
     "output_type": "display_data"
    },
    {
     "name": "stdout",
     "output_type": "stream",
     "text": [
      "   Water Year  Total Precipitation (mm)\n",
      "0   1980_1981                439.689107\n",
      "1   1981_1982                821.477437\n",
      "2   1982_1983                727.917180\n",
      "3   1983_1984                915.129061\n",
      "4   1984_1985                795.881200\n",
      "5   1985_1986                866.317313\n",
      "6   1986_1987                761.911153\n",
      "7   1987_1988                793.286300\n",
      "8   1988_1989                961.226222\n",
      "9   1989_1990                743.926910\n",
      "10  1990_1991                778.214030\n",
      "11  1991_1992                794.199219\n",
      "12  1992_1993                751.346770\n",
      "13  1993_1994                780.154533\n",
      "14  1994_1995                683.490113\n",
      "15  1995_1996                645.242091\n",
      "16  1996_1997                870.740113\n",
      "17  1997_1998                714.776271\n",
      "18  1998_1999                866.299556\n",
      "19  1999_2000                852.314074\n",
      "20  2000_2001                807.607160\n",
      "21  2001_2002                798.628945\n",
      "22  2002_2003                736.964548\n",
      "23  2003_2004                932.327736\n",
      "24  2004_2005                754.145095\n",
      "25  2005_2006                876.472569\n",
      "26  2006_2007                829.630061\n",
      "27  2007_2008                866.292410\n",
      "28  2008_2009                938.575995\n",
      "29  2009_2010                957.076273\n",
      "30  2010_2011               1069.719162\n",
      "31  2011_2012                901.139057\n",
      "32  2012_2013                755.480821\n",
      "33  2013_2014                883.941799\n",
      "34  2014_2015                653.798768\n",
      "35  2015_2016                738.149501\n",
      "36  2016_2017                765.265944\n",
      "37  2017_2018                930.296457\n",
      "38  2018_2019                553.953810\n",
      "39  2019_2020                758.386330\n",
      "40  2020_2021                644.674967\n",
      "41  2021_2022                819.191933\n",
      "42  2022_2023                575.744479\n",
      "43  2023_2024                603.976614\n",
      "44  2024_2025                744.314353\n",
      "45  2025_2026                  0.051326\n"
     ]
    }
   ],
   "source": [
    "# Once the continent level data is downloaded, we clip it using the shape input below and output the clipped precipitation\n",
    "# rasters and a csv of mean pixel values to the desitation or \"output_folder\". Make sure that the shapefile path and output\n",
    "# folder refer to the same shape:\n",
    "shapefile_path = r\"C:\\Users\\huckr\\Desktop\\UCSB\\Okavango\\Data\\StudyAreas\\Upstream_Watersheds\\US_Watersheds_WGS84.shp\"\n",
    "\n",
    "# Total precipitation by dekad\n",
    "output_folder = r'C:\\Users\\huckr\\Desktop\\UCSB\\Okavango\\Data\\Precip\\Dekad_Clipped_Upper_Watershed'\n",
    "os.makedirs(output_folder, exist_ok=True)\n",
    "df_results = process_folder(CHIRPS_Dekad_Africa_FolderPath, shapefile_path, output_folder)\n",
    "df_results.to_csv(os.path.join(output_folder, \"total_precip_dekad.csv\"), index=False)\n",
    "\n",
    "# Total precipitation by water year\n",
    "summary_df = summarize_precipitation_by_wateryear(df_results)\n",
    "summary_df.to_csv(os.path.join(output_folder, \"total_precip_wateryear.csv\"), index=False)"
   ]
  },
  {
   "cell_type": "markdown",
   "id": "b5574ed6",
   "metadata": {},
   "source": [
    "# Additional utilities for importing study areas and extracting upstream watersheds"
   ]
  },
  {
   "cell_type": "markdown",
   "id": "daa406b5",
   "metadata": {},
   "source": [
    "## 1. Import study regions"
   ]
  },
  {
   "cell_type": "markdown",
   "id": "688f1737",
   "metadata": {},
   "source": [
    "Pathnames to locally stored shapefiles"
   ]
  },
  {
   "cell_type": "code",
   "execution_count": 2,
   "id": "8460159f",
   "metadata": {},
   "outputs": [
    {
     "data": {
      "text/html": [
       "\n",
       "            <style>\n",
       "                .geemap-dark {\n",
       "                    --jp-widgets-color: white;\n",
       "                    --jp-widgets-label-color: white;\n",
       "                    --jp-ui-font-color1: white;\n",
       "                    --jp-layout-color2: #454545;\n",
       "                    background-color: #383838;\n",
       "                }\n",
       "                    \n",
       "                .geemap-dark .jupyter-button {\n",
       "                    --jp-layout-color3: #383838;\n",
       "                }\n",
       "                \n",
       "                .geemap-colab {\n",
       "                    background-color: var(--colab-primary-surface-color, white);\n",
       "                }\n",
       "                    \n",
       "                .geemap-colab .jupyter-button {\n",
       "                    --jp-layout-color3: var(--colab-primary-surface-color, white);\n",
       "                }\n",
       "            </style>\n",
       "            "
      ],
      "text/plain": [
       "<IPython.core.display.HTML object>"
      ]
     },
     "metadata": {},
     "output_type": "display_data"
    }
   ],
   "source": [
    "# Shapefile path\n",
    "delta_bnd_path = r\"C:\\Users\\huckr\\Desktop\\UCSB\\Okavango\\Data\\StudyAreas\\Delta_Simplified\\Delta_WGS84.shp\"\n",
    "delta_buff_path = r\"C:\\Users\\huckr\\Desktop\\UCSB\\Okavango\\Data\\StudyAreas\\DeltaBuffer\\Delta_100km_Buffer_WGS84.shp\"\n",
    "US_watershed_path = r\"C:\\Users\\huckr\\Desktop\\UCSB\\Okavango\\Data\\StudyAreas\\Upstream_Watersheds\\US_Watersheds_WGS84.shp\""
   ]
  },
  {
   "cell_type": "markdown",
   "id": "b10a4b28",
   "metadata": {},
   "source": [
    "Geemap feature collection of delta boundary"
   ]
  },
  {
   "cell_type": "code",
   "execution_count": 4,
   "id": "5f0b3182",
   "metadata": {},
   "outputs": [
    {
     "data": {
      "text/html": [
       "\n",
       "            <style>\n",
       "                .geemap-dark {\n",
       "                    --jp-widgets-color: white;\n",
       "                    --jp-widgets-label-color: white;\n",
       "                    --jp-ui-font-color1: white;\n",
       "                    --jp-layout-color2: #454545;\n",
       "                    background-color: #383838;\n",
       "                }\n",
       "                    \n",
       "                .geemap-dark .jupyter-button {\n",
       "                    --jp-layout-color3: #383838;\n",
       "                }\n",
       "                \n",
       "                .geemap-colab {\n",
       "                    background-color: var(--colab-primary-surface-color, white);\n",
       "                }\n",
       "                    \n",
       "                .geemap-colab .jupyter-button {\n",
       "                    --jp-layout-color3: var(--colab-primary-surface-color, white);\n",
       "                }\n",
       "            </style>\n",
       "            "
      ],
      "text/plain": [
       "<IPython.core.display.HTML object>"
      ]
     },
     "metadata": {},
     "output_type": "display_data"
    }
   ],
   "source": [
    "# Load the study area using geopandas\n",
    "StudArGDF = gpd.read_file(delta_bnd_path)\n",
    "\n",
    "# Convert geodataframe to geojson then to FeatureCollection\n",
    "StudAr = geemap.geopandas_to_ee(StudArGDF)"
   ]
  },
  {
   "cell_type": "markdown",
   "id": "3f6dad3b",
   "metadata": {},
   "source": [
    "Code for extracting upstream watershed boundaries (shouldn't need to run)"
   ]
  },
  {
   "cell_type": "code",
   "execution_count": 19,
   "id": "da027bce",
   "metadata": {},
   "outputs": [
    {
     "data": {
      "text/html": [
       "\n",
       "            <style>\n",
       "                .geemap-dark {\n",
       "                    --jp-widgets-color: white;\n",
       "                    --jp-widgets-label-color: white;\n",
       "                    --jp-ui-font-color1: white;\n",
       "                    --jp-layout-color2: #454545;\n",
       "                    background-color: #383838;\n",
       "                }\n",
       "                    \n",
       "                .geemap-dark .jupyter-button {\n",
       "                    --jp-layout-color3: #383838;\n",
       "                }\n",
       "                \n",
       "                .geemap-colab {\n",
       "                    background-color: var(--colab-primary-surface-color, white);\n",
       "                }\n",
       "                    \n",
       "                .geemap-colab .jupyter-button {\n",
       "                    --jp-layout-color3: var(--colab-primary-surface-color, white);\n",
       "                }\n",
       "            </style>\n",
       "            "
      ],
      "text/plain": [
       "<IPython.core.display.HTML object>"
      ]
     },
     "metadata": {},
     "output_type": "display_data"
    }
   ],
   "source": [
    "selected_ids = [1041479540, 1041477980]\n",
    "watershed_fc = ee.FeatureCollection(\"WWF/HydroATLAS/v1/Basins/level04\") \\\n",
    "    .filter(ee.Filter.inList('HYBAS_ID', selected_ids))\n",
    "\n",
    "def ee_featurecollection_to_geopandas(fc):\n",
    "    \"\"\"Converts a ee.FeatureCollection to a GeoPandas GeoDataFrame.\"\"\"\n",
    "    # Extract features from the FeatureCollection\n",
    "    features = fc.getInfo()['features']\n",
    "    # Convert features to GeoJSON\n",
    "    geojsons = [feature['geometry'] for feature in features]\n",
    "    # Convert GeoJSONs to Shapely geometries and create a GeoDataFrame\n",
    "    geometries = [shape(geojson) for geojson in geojsons]\n",
    "    gdf = gpd.GeoDataFrame(geometry=geometries)\n",
    "    gdf['MAIN_BAS'] = [feature['properties']['MAIN_BAS'] for feature in features]\n",
    "    return gdf\n",
    "\n",
    "# Convert directly to GeoPandas GeoDataFrame and dissolve by 'MAIN_BAS'\n",
    "watersheds = ee_featurecollection_to_geopandas(watershed_fc).dissolve(by='MAIN_BAS')"
   ]
  }
 ],
 "metadata": {
  "kernelspec": {
   "display_name": "Python 3 (ipykernel)",
   "language": "python",
   "name": "python3"
  },
  "language_info": {
   "codemirror_mode": {
    "name": "ipython",
    "version": 3
   },
   "file_extension": ".py",
   "mimetype": "text/x-python",
   "name": "python",
   "nbconvert_exporter": "python",
   "pygments_lexer": "ipython3",
   "version": "3.11.5"
  }
 },
 "nbformat": 4,
 "nbformat_minor": 5
}
