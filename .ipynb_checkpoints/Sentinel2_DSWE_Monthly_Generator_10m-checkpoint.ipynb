{
 "cells": [
  {
   "cell_type": "markdown",
   "id": "db061fc4",
   "metadata": {},
   "source": [
    "# MSentinel-2 DSWE Monthly Generator\n",
    "This code employs Sentinel-2 remote sensing data (blue, green, red, NIR, SWIR1, and SWIR2) within the Dynamic Surface Water Extent (DSWE) algorithm to develop monthly water inundation extent maps for a given study area. The code first creates monthly composites from avaialable Sentinel-2 data, then applies the algorithm, exporting each product as an asset to Google Earth Engine.\n",
    "\n",
    "DSWE Methodology: Jones, J.W., 2019. Improved Automated Detection of Subpixel-Scale Inundation—Revised Dynamic Surface Water Extent (DSWE) Partial Surface Water Tests. Remote Sensing 11, 374. https://doi.org/10.3390/rs11040374\n",
    "\n",
    "Sentinel-2: European Space Agency (ESA). (2023). Sentinel-2 imagery. Copernicus Open Access Hub. Retrieved from https://scihub.copernicus.eu/\n",
    "\n",
    "Google Earth Engine: Gorelick, N., Hancher, M., Dixon, M., Ilyushchenko, S., Thau, D., Moore, R., 2017. Google Earth Engine: Planetary-scale geospatial analysis for everyone. Remote Sensing of Environment, Big Remotely Sensed Data: tools, applications and experiences 202, 18–27. https://doi.org/10.1016/j.rse.2017.06.031\n",
    "\n",
    "Author: James (Huck) Rees, PhD Student, UC Santa Barbara Geography\n",
    "\n",
    "Date: March 10th, 2024"
   ]
  },
  {
   "cell_type": "markdown",
   "id": "7f761340",
   "metadata": {},
   "source": [
    "## Import packages and initialize GEE"
   ]
  },
  {
   "cell_type": "code",
   "execution_count": 1,
   "id": "b0d11b59",
   "metadata": {},
   "outputs": [],
   "source": [
    "import ee\n",
    "import geopandas as gpd\n",
    "import os\n",
    "import logging\n",
    "from datetime import datetime, timedelta\n",
    "from dateutil.relativedelta import relativedelta\n",
    "\n",
    "ee.Initialize()\n",
    "\n",
    "# Configure logging\n",
    "logging.basicConfig(level=logging.INFO, format='%(asctime)s - %(levelname)s - %(message)s')"
   ]
  },
  {
   "cell_type": "markdown",
   "id": "d565813c",
   "metadata": {},
   "source": [
    "## Initialize functions"
   ]
  },
  {
   "cell_type": "code",
   "execution_count": 2,
   "id": "13e37832",
   "metadata": {},
   "outputs": [],
   "source": [
    "def load_roi(shapefile_path):\n",
    "    \"\"\"Load ROI from a shapefile and return as an EE Geometry.\"\"\"\n",
    "    gdf = gpd.read_file(shapefile_path)\n",
    "    return ee.Geometry.Polygon(gdf.unary_union.__geo_interface__[\"coordinates\"])\n",
    "\n",
    "# Function to mask clouds using Sentinel-2 Scene Classification Layer (SCL)\n",
    "def mask_clouds_sentinel(image):\n",
    "    scl = image.select(\"SCL\")  # Scene Classification Layer\n",
    "    aot = image.select(\"AOT\").multiply(0.001)  # Correct AOT scaling\n",
    "    \n",
    "    # Remove cloud shadows, clouds, cirrus, and also include low-confidence clouds\n",
    "    cloud_free = scl.neq(3).And(scl.neq(8)).And(scl.neq(9)).And(scl.neq(10))\n",
    "    \n",
    "    # Apply additional filtering for haze (AOT > 0.3 means high aerosol content)\n",
    "    clean_image = image.updateMask(cloud_free).updateMask(aot.lt(0.3))\n",
    "    \n",
    "    return clean_image\n",
    "\n",
    "# Function to compute DSWE classification\n",
    "def apply_dswe(image):\n",
    "    blue = image.select('B2')\n",
    "    green = image.select('B3')\n",
    "    red = image.select('B4')\n",
    "    nir = image.select('B8')\n",
    "    swir1 = image.select('B11')\n",
    "    swir2 = image.select('B12')\n",
    "\n",
    "    mndwi = green.subtract(swir1).divide(green.add(swir1)).rename(\"MNDWI\")\n",
    "    ndvi = nir.subtract(red).divide(nir.add(red)).rename(\"NDVI\")\n",
    "    mbsrv = green.add(red).rename(\"MBSRV\")\n",
    "    mbsrn = nir.add(swir1).rename(\"MBSRN\")\n",
    "    awesh = blue.add(green.multiply(2.5)).subtract(mbsrn.multiply(1.5)).subtract(swir2.multiply(0.25)).rename(\"AWESH\")\n",
    "\n",
    "    t1 = mndwi.gt(0.124)\n",
    "    t2 = mbsrv.gt(mbsrn)\n",
    "    t3 = awesh.gt(0)\n",
    "    t4 = (mndwi.gt(-0.44)).And(swir1.lt(900)).And(nir.lt(1500)).And(ndvi.lt(0.7))\n",
    "    t5 = (mndwi.gt(-0.5)).And(green.lt(1000)).And(swir1.lt(3000)).And(swir2.lt(1000)).And(nir.lt(2500))\n",
    "\n",
    "    dswe = (t1.multiply(1)\n",
    "            .add(t2.multiply(10))\n",
    "            .add(t3.multiply(100))\n",
    "            .add(t4.multiply(1000))\n",
    "            .add(t5.multiply(10000)))\n",
    "\n",
    "    no_water = dswe.eq(0).Or(dswe.eq(1)).Or(dswe.eq(10)).Or(dswe.eq(100)).Or(dswe.eq(1000))\n",
    "    high_conf_water = dswe.eq(1111).Or(dswe.eq(10111)).Or(dswe.eq(11101)).Or(dswe.eq(11110)).Or(dswe.eq(11111))\n",
    "    moderate_conf_water = dswe.eq(111).Or(dswe.eq(1011)).Or(dswe.eq(1101)).Or(dswe.eq(1110))\\\n",
    "        .Or(dswe.eq(10011)).Or(dswe.eq(10101)).Or(dswe.eq(10110)).Or(dswe.eq(11001))\\\n",
    "        .Or(dswe.eq(11010)).Or(dswe.eq(11100))\n",
    "    potential_wetland = dswe.eq(11000)\n",
    "    low_conf_water = dswe.eq(11).Or(dswe.eq(101)).Or(dswe.eq(110))\\\n",
    "        .Or(dswe.eq(1001)).Or(dswe.eq(1010)).Or(dswe.eq(1100))\\\n",
    "        .Or(dswe.eq(10000)).Or(dswe.eq(10001)).Or(dswe.eq(10010)).Or(dswe.eq(10100))\n",
    "\n",
    "    dswe_final = (no_water.multiply(0)\n",
    "                  .add(high_conf_water.multiply(4))\n",
    "                  .add(moderate_conf_water.multiply(3))\n",
    "                  .add(potential_wetland.multiply(2))\n",
    "                  .add(low_conf_water.multiply(1)))\n",
    "\n",
    "    return dswe_final.rename(\"DSWE\")\n",
    "\n",
    "def export_to_asset(image, year, month, asset_folder):\n",
    "    \"\"\"Export DSWE composite to GEE asset.\"\"\"\n",
    "    asset_id = f\"{asset_folder}/DSWE_{year}_{month:02d}\"\n",
    "    try:\n",
    "        ee.data.getAsset(asset_id)\n",
    "        logging.info(f\"Skipping {asset_id}, already exists.\")\n",
    "    except:\n",
    "        task = ee.batch.Export.image.toAsset(\n",
    "            image=image.select([\"DSWE\"]),\n",
    "            description=f\"DSWE_{year}_{month:02d}\",\n",
    "            assetId=asset_id,\n",
    "            scale=10,\n",
    "            region=roi,\n",
    "            maxPixels=1e13\n",
    "        )\n",
    "        task.start()\n",
    "        logging.info(f\"Exporting {asset_id}...\")\n",
    "\n",
    "def process_monthly_dswe(start_date, end_date, roi, asset_folder):\n",
    "    \"\"\"Generate and export DSWE composites for each month within the given date range.\"\"\"\n",
    "    current_date = start_date\n",
    "    while current_date <= end_date:\n",
    "        year, month = current_date.year, current_date.month\n",
    "        next_date = (current_date.replace(day=28) + timedelta(days=4)).replace(day=1)\n",
    "        collection = ee.ImageCollection(\"COPERNICUS/S2_SR_HARMONIZED\")\\\n",
    "            .filterBounds(roi)\\\n",
    "            .filterDate(f\"{year}-{month:02d}-01\", f\"{year}-{month:02d}-28\")\\\n",
    "            .map(mask_clouds_sentinel)\n",
    "\n",
    "        if collection.size().getInfo() > 0:\n",
    "            composite = collection.median().clip(roi)\n",
    "            dswe_composite = apply_dswe(composite)\n",
    "            export_to_asset(dswe_composite, year, month, asset_folder)\n",
    "        else:\n",
    "            logging.warning(f\"No data available for {year}-{month:02d}.\")\n",
    "\n",
    "        current_date = next_date"
   ]
  },
  {
   "cell_type": "markdown",
   "id": "77c5558a",
   "metadata": {},
   "source": [
    "## Input pathnames, parameter, and run "
   ]
  },
  {
   "cell_type": "code",
   "execution_count": 4,
   "id": "dae1c76e",
   "metadata": {},
   "outputs": [
    {
     "name": "stderr",
     "output_type": "stream",
     "text": [
      "2025-03-10 16:47:36,328 - INFO - Exporting projects/ee-okavango/assets/water_masks/monthly_DSWE_Sent2_10m/DSWE_2019_01...\n"
     ]
    }
   ],
   "source": [
    "# User-defined parameters\n",
    "start_date = datetime(2019, 1, 1)\n",
    "end_date = datetime(2019, 1, 31)\n",
    "study_area_path = r\"C:\\Users\\huckr\\Desktop\\UCSB\\Okavango\\Data\\StudyAreas\\Delta_UCB\\Delta_UCB_WGS84.shp\"\n",
    "gee_asset_output_folder = \"projects/ee-okavango/assets/water_masks/monthly_DSWE_Sent2_10m\"\n",
    "\n",
    "# Load ROI\n",
    "roi = load_roi(study_area_path)\n",
    "\n",
    "# Run processing\n",
    "process_monthly_dswe(start_date, end_date, roi, gee_asset_output_folder)\n"
   ]
  }
 ],
 "metadata": {
  "kernelspec": {
   "display_name": "Python 3 (ipykernel)",
   "language": "python",
   "name": "python3"
  },
  "language_info": {
   "codemirror_mode": {
    "name": "ipython",
    "version": 3
   },
   "file_extension": ".py",
   "mimetype": "text/x-python",
   "name": "python",
   "nbconvert_exporter": "python",
   "pygments_lexer": "ipython3",
   "version": "3.11.5"
  }
 },
 "nbformat": 4,
 "nbformat_minor": 5
}
