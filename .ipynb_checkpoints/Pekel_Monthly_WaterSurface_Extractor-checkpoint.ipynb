{
 "cells": [
  {
   "cell_type": "code",
   "execution_count": 2,
   "id": "15acec93",
   "metadata": {},
   "outputs": [
    {
     "name": "stderr",
     "output_type": "stream",
     "text": [
      "*** Earth Engine *** Share your feedback by taking our Annual Developer Satisfaction Survey: https://google.qualtrics.com/jfe/form/SV_7TDKVSyKvBdmMqW?ref=4i2o6\n"
     ]
    }
   ],
   "source": [
    "import ee\n",
    "import geopandas as gpd\n",
    "import pandas as pd\n",
    "from datetime import datetime\n",
    "\n",
    "# --------- 1. Initialize Earth Engine\n",
    "ee.Initialize()\n"
   ]
  },
  {
   "cell_type": "code",
   "execution_count": 6,
   "id": "3cc45a4b",
   "metadata": {},
   "outputs": [
    {
     "name": "stdout",
     "output_type": "stream",
     "text": [
      "       month    area_km2  total_area_km2\n",
      "0    1984-03    0.000000    23317.064473\n",
      "1    1984-04    0.000000    23317.064473\n",
      "2    1984-05    0.000000    23317.064473\n",
      "3    1984-06  356.916344    23317.064473\n",
      "4    1984-07  192.742736    23317.064473\n",
      "..       ...         ...             ...\n",
      "449  2021-08  113.124581    23317.064473\n",
      "450  2021-09   98.238668    23317.064473\n",
      "451  2021-10   63.047501    23317.064473\n",
      "452  2021-11   54.976423    23317.064473\n",
      "453  2021-12   48.322448    23317.064473\n",
      "\n",
      "[454 rows x 3 columns]\n"
     ]
    }
   ],
   "source": [
    "# --------- 2. Load shapefile as GeoDataFrame and convert to ee.Geometry\n",
    "def load_geometry_from_shapefile(shapefile_path):\n",
    "    gdf = gpd.read_file(shapefile_path)\n",
    "    geom = ee.Geometry(gdf.geometry[0].__geo_interface__)\n",
    "    return geom\n",
    "\n",
    "# --------- 3. Get list of monthly dates between year range\n",
    "def get_monthly_date_range(start_year, end_year):\n",
    "    return [datetime(y, m, 1).strftime('%Y-%m') for y in range(start_year, end_year + 1) for m in range(1, 13)]\n",
    "\n",
    "# --------- 4. Main function to extract water area time series\n",
    "def extract_monthly_water_area(shapefile_path, start_year, end_year):\n",
    "    roi = load_geometry_from_shapefile(shapefile_path)\n",
    "    date_list = get_monthly_date_range(start_year, end_year)\n",
    "\n",
    "    # Compute total area in km² once\n",
    "    total_area_km2 = ee.Image.pixelArea().reduceRegion(\n",
    "        reducer=ee.Reducer.sum(),\n",
    "        geometry=roi,\n",
    "        scale=30,\n",
    "        maxPixels=1e10\n",
    "    ).getInfo()['area'] / 1e6\n",
    "\n",
    "    # Load JRC dataset\n",
    "    dataset = ee.ImageCollection(\"JRC/GSW1_4/MonthlyHistory\") \\\n",
    "        .filterBounds(roi) \\\n",
    "        .filterDate(f'{start_year}-01-01', f'{end_year}-12-31')\n",
    "\n",
    "    def process_image(img):\n",
    "        date_str = img.date().format('YYYY-MM')\n",
    "        water_mask = img.select('water').eq(2)\n",
    "        area_img = water_mask.multiply(ee.Image.pixelArea()).divide(1e6)  # km²\n",
    "\n",
    "        stats = area_img.reduceRegion(\n",
    "            reducer=ee.Reducer.sum(),\n",
    "            geometry=roi,\n",
    "            scale=30,\n",
    "            maxPixels=1e10\n",
    "        )\n",
    "\n",
    "        return ee.Feature(None, {\n",
    "            'month': date_str,\n",
    "            'area_km2': stats.get('water'),\n",
    "            'total_area_km2': total_area_km2\n",
    "        })\n",
    "\n",
    "    features = dataset.map(process_image).getInfo()['features']\n",
    "\n",
    "    df = pd.DataFrame([\n",
    "        {\n",
    "            'month': f['properties']['month'],\n",
    "            'area_km2': f['properties']['area_km2'],\n",
    "            'total_area_km2': f['properties']['total_area_km2']\n",
    "        }\n",
    "        for f in features\n",
    "    ])\n",
    "\n",
    "    return df\n",
    "\n",
    "# Example usage\n",
    "df = extract_monthly_water_area(\n",
    "    shapefile_path=r\"C:\\Users\\huckr\\Desktop\\UCSB\\Okavango\\Data\\StudyAreas\\Delta_UCB\\Delta_UCB_WGS84.shp\",\n",
    "    start_year=1984,\n",
    "    end_year=2021\n",
    ")\n",
    "\n",
    "# Save or display\n",
    "print(df)\n",
    "df.to_csv(r\"C:\\Users\\huckr\\Desktop\\UCSB\\Okavango\\Data\\Code\\Troubleshooting\\monthly_water_area.csv\", index=False)\n"
   ]
  },
  {
   "cell_type": "code",
   "execution_count": null,
   "id": "f8740b47",
   "metadata": {},
   "outputs": [],
   "source": []
  }
 ],
 "metadata": {
  "kernelspec": {
   "display_name": "Python 3 (ipykernel)",
   "language": "python",
   "name": "python3"
  },
  "language_info": {
   "codemirror_mode": {
    "name": "ipython",
    "version": 3
   },
   "file_extension": ".py",
   "mimetype": "text/x-python",
   "name": "python",
   "nbconvert_exporter": "python",
   "pygments_lexer": "ipython3",
   "version": "3.11.5"
  }
 },
 "nbformat": 4,
 "nbformat_minor": 5
}
